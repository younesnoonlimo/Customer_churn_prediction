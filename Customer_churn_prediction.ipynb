{
 "cells": [
  {
   "cell_type": "code",
   "execution_count": 0,
   "metadata": {
    "application/vnd.databricks.v1+cell": {
     "cellMetadata": {
      "byteLimit": 2048000,
      "rowLimit": 10000
     },
     "inputWidgets": {},
     "nuid": "5990a8ac-e5d8-41b1-8612-613053f19d83",
     "showTitle": false,
     "tableResultSettingsMap": {},
     "title": ""
    }
   },
   "outputs": [],
   "source": [
    "# Importing PySpark libraries\n",
    "from pyspark.sql import SparkSession\n",
    "from pyspark.sql import functions as F\n",
    "\n",
    "# Fetching data from the Databricks table\n",
    "df_spark = spark.sql(\"SELECT * FROM workspace.default.telco_customer_churn\")\n",
    "\n",
    "\n",
    "# Converting the PySpark DataFrame to a Pandas DataFrame\n",
    "df = df_spark.toPandas()\n",
    "\n",
    "# Displaying the first 10 rows of the Pandas DataFrame\n",
    "df.head(10)\n"
   ]
  },
  {
   "cell_type": "code",
   "execution_count": 0,
   "metadata": {
    "application/vnd.databricks.v1+cell": {
     "cellMetadata": {
      "byteLimit": 2048000,
      "rowLimit": 10000
     },
     "inputWidgets": {},
     "nuid": "2395631b-0fd1-4890-a8dd-7e91f2a56f58",
     "showTitle": false,
     "tableResultSettingsMap": {},
     "title": ""
    }
   },
   "outputs": [],
   "source": [
    "import pandas as pd\n",
    "# عرض المعلومات حول الأعمدة (عدد القيم غير المفقودة ونوع البيانات)\n",
    "df[\"TotalCharges\"] = pd.to_numeric(df[\"TotalCharges\"], errors='coerce')\n",
    "print(df.info())\n",
    "\n",
    "# عرض الإحصاءات الأساسية مثل المتوسط والانحراف المعياري للبيانات\n",
    "print(df.describe())\n"
   ]
  },
  {
   "cell_type": "code",
   "execution_count": 0,
   "metadata": {
    "application/vnd.databricks.v1+cell": {
     "cellMetadata": {
      "byteLimit": 2048000,
      "rowLimit": 10000
     },
     "inputWidgets": {},
     "nuid": "92355d76-9100-4fd6-b965-015f4df8f014",
     "showTitle": false,
     "tableResultSettingsMap": {},
     "title": ""
    }
   },
   "outputs": [],
   "source": [
    "print(df.isnull().sum())"
   ]
  },
  {
   "cell_type": "code",
   "execution_count": 0,
   "metadata": {
    "application/vnd.databricks.v1+cell": {
     "cellMetadata": {
      "byteLimit": 2048000,
      "rowLimit": 10000
     },
     "inputWidgets": {},
     "nuid": "d210d810-315b-4b54-aee9-fa3022b4157b",
     "showTitle": false,
     "tableResultSettingsMap": {},
     "title": ""
    }
   },
   "outputs": [],
   "source": [
    "import matplotlib.pyplot as plt\n",
    "\n",
    "df.hist(bins=50,figsize=(10,8))\n",
    "plt.show()"
   ]
  },
  {
   "cell_type": "code",
   "execution_count": 0,
   "metadata": {
    "application/vnd.databricks.v1+cell": {
     "cellMetadata": {
      "byteLimit": 2048000,
      "rowLimit": 10000
     },
     "inputWidgets": {},
     "nuid": "c832c58e-c8d3-4d14-bca5-224d6ee4298d",
     "showTitle": false,
     "tableResultSettingsMap": {},
     "title": ""
    }
   },
   "outputs": [],
   "source": [
    "import seaborn as sns\n",
    "\n",
    "# حساب مصفوفة الارتباط بين الأعمدة\n",
    "correlation_matrix = df.corr()\n",
    "\n",
    "# رسم مصفوفة الارتباط\n",
    "plt.figure(figsize=(12, 8))\n",
    "sns.heatmap(correlation_matrix, annot=True, cmap='coolwarm')\n",
    "plt.show()\n"
   ]
  },
  {
   "cell_type": "code",
   "execution_count": 0,
   "metadata": {
    "application/vnd.databricks.v1+cell": {
     "cellMetadata": {
      "byteLimit": 2048000,
      "rowLimit": 10000
     },
     "inputWidgets": {},
     "nuid": "adff1713-7d6d-4db4-90d4-bbee47b7d596",
     "showTitle": false,
     "tableResultSettingsMap": {},
     "title": ""
    }
   },
   "outputs": [],
   "source": [
    "sns.boxplot(x=df['TotalCharges'])\n",
    "plt.show()"
   ]
  },
  {
   "cell_type": "code",
   "execution_count": 0,
   "metadata": {
    "application/vnd.databricks.v1+cell": {
     "cellMetadata": {
      "byteLimit": 2048000,
      "rowLimit": 10000
     },
     "inputWidgets": {},
     "nuid": "badbff7b-cced-4e5c-af66-34105a41badc",
     "showTitle": false,
     "tableResultSettingsMap": {},
     "title": ""
    }
   },
   "outputs": [],
   "source": [
    "print(df[\"Churn\"].value_counts())\n",
    "\n",
    "sns.countplot(x='Churn',data = df)\n",
    "plt.show()"
   ]
  },
  {
   "cell_type": "code",
   "execution_count": 0,
   "metadata": {
    "application/vnd.databricks.v1+cell": {
     "cellMetadata": {
      "byteLimit": 2048000,
      "rowLimit": 10000
     },
     "inputWidgets": {},
     "nuid": "508364bd-a595-4d0c-add5-72d39b354a48",
     "showTitle": false,
     "tableResultSettingsMap": {},
     "title": ""
    }
   },
   "outputs": [],
   "source": [
    "import pandas as pd\n",
    "\n",
    "# DATA \n",
    "print(df.isnull().sum())\n",
    "df['TotalCharges'] = df['TotalCharges'].fillna(df['TotalCharges'].mean())\n",
    "print(df.isnull().sum())"
   ]
  },
  {
   "cell_type": "code",
   "execution_count": 0,
   "metadata": {
    "application/vnd.databricks.v1+cell": {
     "cellMetadata": {
      "byteLimit": 2048000,
      "rowLimit": 10000
     },
     "inputWidgets": {},
     "nuid": "f9377f49-3d71-48ee-b6ba-e1eb4a461279",
     "showTitle": false,
     "tableResultSettingsMap": {},
     "title": ""
    }
   },
   "outputs": [],
   "source": [
    "# تحويل الأعمدة الفئوية إلى متغيرات رقمية باستخدام One-Hot Encoding\n",
    "\n",
    "print(df.columns)\n",
    "\n",
    "# اختيار الأعمدة المهمة فقط بما في ذلك الأعمدة الرقمية\n",
    "df = df[['gender', 'SeniorCitizen', 'tenure', 'PhoneService', 'InternetService', 'Contract', \n",
    "         'PaymentMethod', 'MonthlyCharges', 'TotalCharges', 'Churn']]\n",
    "\n",
    "# تحويل الأعمدة الفئوية إلى متغيرات رقمية باستخدام One-Hot Encoding\n",
    "df = pd.get_dummies(df, columns=['gender', 'PhoneService', 'InternetService', 'Contract', 'PaymentMethod'], drop_first=True)\n",
    "\n",
    "# استخدام Label Encoding للأعمدة ذات قيم ثنائية مثل 'Churn'\n",
    "from sklearn.preprocessing import LabelEncoder\n",
    "le = LabelEncoder()\n",
    "df['Churn'] = le.fit_transform(df['Churn'])\n"
   ]
  },
  {
   "cell_type": "code",
   "execution_count": 0,
   "metadata": {
    "application/vnd.databricks.v1+cell": {
     "cellMetadata": {
      "byteLimit": 2048000,
      "rowLimit": 10000
     },
     "inputWidgets": {},
     "nuid": "fc9a932e-3284-4e78-b1dd-e1bf943f2904",
     "showTitle": false,
     "tableResultSettingsMap": {},
     "title": ""
    }
   },
   "outputs": [],
   "source": [
    "# استخدام boxplot لاكتشاف القيم المتطرفة في الأعمدة الرقمية\n",
    "import seaborn as sns\n",
    "sns.boxplot(x=df['MonthlyCharges'])\n",
    "\n",
    "# إزالة القيم المتطرفة بناءً على القيم العليا والدنيا\n",
    "Q1 = df['MonthlyCharges'].quantile(0.25)\n",
    "Q3 = df['MonthlyCharges'].quantile(0.75)\n",
    "IQR = Q3 - Q1\n",
    "df = df[(df['MonthlyCharges'] >= (Q1 - 1.5 * IQR)) & (df['MonthlyCharges'] <= (Q3 + 1.5 * IQR))]\n"
   ]
  },
  {
   "cell_type": "code",
   "execution_count": 0,
   "metadata": {
    "application/vnd.databricks.v1+cell": {
     "cellMetadata": {
      "byteLimit": 2048000,
      "rowLimit": 10000
     },
     "inputWidgets": {},
     "nuid": "f3677766-2191-4764-9070-59f73b5a0880",
     "showTitle": false,
     "tableResultSettingsMap": {},
     "title": ""
    }
   },
   "outputs": [],
   "source": [
    "from sklearn.model_selection import train_test_split\n",
    "\n",
    "# تحديد المتغيرات المستقلة (features) والمتغير التابع (target)\n",
    "X = df.drop(columns=['Churn'])  # جميع الأعمدة باستثناء العمود \"Churn\"\n",
    "y = df['Churn']  # عمود \"Churn\" هو المتغير التابع\n",
    "\n",
    "# تقسيم البيانات إلى تدريب واختبار بنسبة 80% تدريب و 20% اختبار\n",
    "X_train, X_test, y_train, y_test = train_test_split(X, y, test_size=0.2, random_state=42)\n",
    "\n",
    "# Explanation: We split the data into 80% training data and 20% testing data.\n",
    "# The random_state ensures that the split is reproducible.\n"
   ]
  },
  {
   "cell_type": "code",
   "execution_count": 0,
   "metadata": {
    "application/vnd.databricks.v1+cell": {
     "cellMetadata": {
      "byteLimit": 2048000,
      "rowLimit": 10000
     },
     "inputWidgets": {},
     "nuid": "4346a0a1-d78d-4711-ac55-67526af3cf2a",
     "showTitle": false,
     "tableResultSettingsMap": {},
     "title": ""
    }
   },
   "outputs": [],
   "source": [
    "from sklearn.tree import DecisionTreeClassifier\n",
    "\n",
    "# إنشاء نموذج شجرة القرار\n",
    "dt_model = DecisionTreeClassifier(random_state=42)\n",
    "\n",
    "# تدريب النموذج باستخدام البيانات التدريبية\n",
    "dt_model.fit(X_train, y_train)\n",
    "\n",
    "# Explanation: The DecisionTreeClassifier is trained on the training data (X_train, y_train).\n",
    "# It learns how to classify the data based on the input features.\n"
   ]
  },
  {
   "cell_type": "code",
   "execution_count": 0,
   "metadata": {
    "application/vnd.databricks.v1+cell": {
     "cellMetadata": {
      "byteLimit": 2048000,
      "rowLimit": 10000
     },
     "inputWidgets": {},
     "nuid": "6cdde108-f8f1-4df7-99fa-b476fb2e1e81",
     "showTitle": false,
     "tableResultSettingsMap": {},
     "title": ""
    }
   },
   "outputs": [],
   "source": [
    "# التنبؤ باستخدام النموذج المدرب على بيانات الاختبار\n",
    "y_pred = dt_model.predict(X_test)\n",
    "\n",
    "# Explanation: After training the model, we use the test set (X_test) to make predictions (y_pred).\n",
    "# This allows us to evaluate how well the model generalizes to unseen data.\n"
   ]
  },
  {
   "cell_type": "code",
   "execution_count": 0,
   "metadata": {
    "application/vnd.databricks.v1+cell": {
     "cellMetadata": {
      "byteLimit": 2048000,
      "rowLimit": 10000
     },
     "inputWidgets": {},
     "nuid": "ed4e1c04-4c9d-4afc-96fd-a3cc7e9e4297",
     "showTitle": false,
     "tableResultSettingsMap": {},
     "title": ""
    }
   },
   "outputs": [],
   "source": [
    "from sklearn.metrics import accuracy_score, confusion_matrix, classification_report\n",
    "\n",
    "# حساب الدقة (Accuracy)\n",
    "accuracy = accuracy_score(y_test, y_pred)\n",
    "\n",
    "# حساب مصفوفة الالتباس (Confusion Matrix)\n",
    "conf_matrix = confusion_matrix(y_test, y_pred)\n",
    "\n",
    "# تقرير تصنيف (Precision, Recall, F1-Score)\n",
    "class_report = classification_report(y_test, y_pred)\n",
    "\n",
    "# طباعة النتائج\n",
    "print(\"Accuracy: \", accuracy)\n",
    "print(\"\\nConfusion Matrix:\\n\", conf_matrix)\n",
    "print(\"\\nClassification Report:\\n\", class_report)\n",
    "\n",
    "# Explanation: \n",
    "# - Accuracy: the percentage of correct predictions made by the model.\n",
    "# - Confusion Matrix: shows how many predictions were correct/incorrect for each class (e.g., churn vs non-churn).\n",
    "# - Classification Report: provides precision, recall, and F1-score for both classes (churn and non-churn).\n"
   ]
  }
 ],
 "metadata": {
  "application/vnd.databricks.v1+notebook": {
   "computePreferences": null,
   "dashboards": [],
   "environmentMetadata": {
    "base_environment": "",
    "environment_version": "2"
   },
   "inputWidgetPreferences": null,
   "language": "python",
   "notebookMetadata": {
    "pythonIndentUnit": 4
   },
   "notebookName": "Customer_churn_prediction",
   "widgets": {}
  },
  "language_info": {
   "name": "python"
  }
 },
 "nbformat": 4,
 "nbformat_minor": 0
}
